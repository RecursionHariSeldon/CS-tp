{
 "cells": [
  {
   "cell_type": "code",
   "execution_count": 153,
   "id": "d84e08d8-c6a0-45d8-9645-14ea15c8b838",
   "metadata": {},
   "outputs": [],
   "source": [
    "import math\n",
    "import numpy as np\n",
    "import matplotlib.pyplot as plt\n",
    "import graphviz\n",
    "%matplotlib inline"
   ]
  },
  {
   "cell_type": "code",
   "execution_count": 154,
   "id": "7d0c12a9-a545-4cef-b9a5-26c5b383861a",
   "metadata": {},
   "outputs": [],
   "source": [
    "def f(x):\n",
    "    return 5*x**3 - 3*x**2 -4*x + 5"
   ]
  },
  {
   "cell_type": "code",
   "execution_count": 155,
   "id": "9655a3b4-d70f-4db7-9a69-16fb6c9086cc",
   "metadata": {},
   "outputs": [
    {
     "data": {
      "text/plain": [
       "535"
      ]
     },
     "execution_count": 155,
     "metadata": {},
     "output_type": "execute_result"
    }
   ],
   "source": [
    "f(5)\n"
   ]
  },
  {
   "cell_type": "code",
   "execution_count": 156,
   "id": "987095ab-dd63-40e8-8f3c-4eb0885c0a89",
   "metadata": {},
   "outputs": [
    {
     "data": {
      "text/plain": [
       "array([2.5       , 2.52564103, 2.55128205, 2.57692308, 2.6025641 ,\n",
       "       2.62820513, 2.65384615, 2.67948718, 2.70512821, 2.73076923,\n",
       "       2.75641026, 2.78205128, 2.80769231, 2.83333333, 2.85897436,\n",
       "       2.88461538, 2.91025641, 2.93589744, 2.96153846, 2.98717949,\n",
       "       3.01282051, 3.03846154, 3.06410256, 3.08974359, 3.11538462,\n",
       "       3.14102564, 3.16666667, 3.19230769, 3.21794872, 3.24358974,\n",
       "       3.26923077, 3.29487179, 3.32051282, 3.34615385, 3.37179487,\n",
       "       3.3974359 , 3.42307692, 3.44871795, 3.47435897, 3.5       ])"
      ]
     },
     "execution_count": 156,
     "metadata": {},
     "output_type": "execute_result"
    }
   ],
   "source": [
    "xs = np.linspace(2.5,3.5,40);xs"
   ]
  },
  {
   "cell_type": "code",
   "execution_count": 157,
   "id": "515faca5-ef67-43a2-9270-90989a615dc4",
   "metadata": {},
   "outputs": [
    {
     "data": {
      "text/plain": [
       "array([ 54.375     ,  56.3144334 ,  58.29973744,  60.33141784,\n",
       "        62.40998036,  64.53593073,  66.70977469,  68.93201799,\n",
       "        71.20316635,  73.52372553,  75.89420127,  78.31509929,\n",
       "        80.78692535,  83.31018519,  85.88538453,  88.51302913,\n",
       "        91.19362472,  93.92767705,  96.71569185,  99.55817487,\n",
       "       102.45563184, 105.4085685 , 108.4174906 , 111.48290388,\n",
       "       114.60531406, 117.78522691, 121.02314815, 124.31958352,\n",
       "       127.67503877, 131.09001964, 134.56503186, 138.10058118,\n",
       "       141.69717333, 145.35531406, 149.07550911, 152.85826422,\n",
       "       156.70408512, 160.61347755, 164.58694727, 168.625     ])"
      ]
     },
     "execution_count": 157,
     "metadata": {},
     "output_type": "execute_result"
    }
   ],
   "source": [
    "ys = f(xs)\n",
    "ys"
   ]
  },
  {
   "cell_type": "code",
   "execution_count": 158,
   "id": "4c025a0b-0f06-4b58-a9ed-be17db310ebb",
   "metadata": {},
   "outputs": [
    {
     "data": {
      "text/plain": [
       "[<matplotlib.lines.Line2D at 0x24840492160>]"
      ]
     },
     "execution_count": 158,
     "metadata": {},
     "output_type": "execute_result"
    },
    {
     "data": {
      "image/png": "[encoded data removed]",
      "text/plain": [
       "<Figure size 432x288 with 1 Axes>"
      ]
     },
     "metadata": {
      "needs_background": "light"
     },
     "output_type": "display_data"
    }
   ],
   "source": [
    "plt.plot(xs,ys)"
   ]
  },
  {
   "cell_type": "code",
   "execution_count": 159,
   "id": "f73211b5-95d1-45ac-ac11-fd8ebf19cf25",
   "metadata": {},
   "outputs": [],
   "source": [
    "h = 0.01"
   ]
  },
  {
   "cell_type": "code",
   "execution_count": 160,
   "id": "86ae2327-586a-487e-a033-63f054150d8f",
   "metadata": {},
   "outputs": [],
   "source": [
    "def f_derivative(a,h):\n",
    "    return (f(a+h)-f(a))/h\n"
   ]
  },
  {
   "cell_type": "code",
   "execution_count": 161,
   "id": "1c0c8884-dc7c-40c2-932c-bfb0d6412183",
   "metadata": {},
   "outputs": [],
   "source": [
    "a = f_derivative(3,0.1);b = f_derivative(3,0.2);c = f_derivative(3,0.3);d = f_derivative(3,0.4)"
   ]
  },
  {
   "cell_type": "code",
   "execution_count": 162,
   "id": "6b3b1be1-c255-4cad-9f3e-91862a4dd2df",
   "metadata": {},
   "outputs": [
    {
     "data": {
      "text/plain": [
       "array([ 42.375     ,  45.38141026,  48.38782051,  51.39423077,\n",
       "        54.40064103,  57.40705128,  60.41346154,  63.41987179,\n",
       "        66.42628205,  69.43269231,  72.43910256,  75.44551282,\n",
       "        78.45192308,  81.45833333,  84.46474359,  87.47115385,\n",
       "        90.4775641 ,  93.48397436,  96.49038462,  99.49679487,\n",
       "       102.50320513, 105.50961538, 108.51602564, 111.5224359 ,\n",
       "       114.52884615, 117.53525641, 120.54166667, 123.54807692,\n",
       "       126.55448718, 129.56089744, 132.56730769, 135.57371795,\n",
       "       138.58012821, 141.58653846, 144.59294872, 147.59935897,\n",
       "       150.60576923, 153.61217949, 156.61858974, 159.625     ])"
      ]
     },
     "execution_count": 162,
     "metadata": {},
     "output_type": "execute_result"
    }
   ],
   "source": [
    "a1 = f(3) + (xs-3)*a\n",
    "b1 = f(3) + (xs-3)*b\n",
    "c1 = f(3) + (xs-3)*c\n",
    "d1 = f(3) + (xs-3)*d;    a1"
   ]
  },
  {
   "cell_type": "code",
   "execution_count": 163,
   "id": "e888e185-779a-4c60-9e87-c6539aed681e",
   "metadata": {},
   "outputs": [],
   "source": [
    "#xs = np.array([0.00005,0.00004,0.00003,0.00002,0.00001])"
   ]
  },
  {
   "cell_type": "code",
   "execution_count": 164,
   "id": "50275d5e-2364-477a-a55c-f0fc191dab2c",
   "metadata": {},
   "outputs": [],
   "source": [
    "#ys= f_derivative(a,xs)\n",
    "#ys"
   ]
  },
  {
   "cell_type": "code",
   "execution_count": 165,
   "id": "fd699567-aeda-41c1-8209-9ff45323e2b4",
   "metadata": {},
   "outputs": [],
   "source": [
    "#plt.plot(xs,ys)"
   ]
  },
  {
   "cell_type": "code",
   "execution_count": 166,
   "id": "32cfcf16-51b9-45d4-9d0f-5f2028bdcf11",
   "metadata": {},
   "outputs": [
    {
     "data": {
      "text/plain": [
       "[<matplotlib.lines.Line2D at 0x248404f64c0>]"
      ]
     },
     "execution_count": 166,
     "metadata": {},
     "output_type": "execute_result"
    },
    {
     "data": {
      "image/png": "[encoded data removed]",
      "text/plain": [
       "<Figure size 432x288 with 1 Axes>"
      ]
     },
     "metadata": {
      "needs_background": "light"
     },
     "output_type": "display_data"
    }
   ],
   "source": [
    "plt.plot(xs,a1,'g')\n",
    "plt.plot(xs,b1,'r')\n",
    "plt.plot(xs,c1,'b')\n",
    "plt.plot(xs,ys,'y')\n"
   ]
  },
  {
   "cell_type": "code",
   "execution_count": null,
   "id": "61171524-b04a-4a68-9d2d-e73b06ef959c",
   "metadata": {},
   "outputs": [],
   "source": []
  },
  {
   "cell_type": "code",
   "execution_count": 167,
   "id": "554a34a2-3257-447d-80bb-bf9eada553e8",
   "metadata": {},
   "outputs": [
    {
     "name": "stdout",
     "output_type": "stream",
     "text": [
      "d is 6 \n",
      "d1 is 5.9998 \n",
      "slope is -2.0000000000042206\n",
      "\n",
      "d is 6 \n",
      "d1 is 6.0003 \n",
      "slope is 3.00000000000189\n",
      "\n",
      "d is 6 \n",
      "d1 is 6.0001 \n",
      "slope is 0.9999999999976694\n"
     ]
    }
   ],
   "source": [
    "a = 3\n",
    "b = -2\n",
    "c = 12\n",
    "d = a*b + c\n",
    "\n",
    "h = 0.0001\n",
    "\n",
    "a+=h\n",
    "d1 = a*b + c\n",
    "a-= h\n",
    "print ( f\"d is {d} \\nd1 is {d1} \\nslope is {((d1-d)/h)}\\n\")\n",
    "\n",
    "b+=h\n",
    "d1 = a*b + c\n",
    "b-= h\n",
    "print ( f\"d is {d} \\nd1 is {d1} \\nslope is {((d1-d)/h)}\\n\")\n",
    "\n",
    "c+=h\n",
    "d1 = a*b + c\n",
    "c-= h\n",
    "print ( f\"d is {d} \\nd1 is {d1} \\nslope is {((d1-d)/h)}\")\n"
   ]
  },
  {
   "cell_type": "code",
   "execution_count": 168,
   "id": "aa3c161c-6c22-403c-8451-31b0b912caaf",
   "metadata": {},
   "outputs": [],
   "source": [
    "#now creating the class value , in order to have the same arithmetic functions but have pointers to the objects and store extra info such aschildren and operands for back-propapgation\n",
    "\n",
    "class Value:\n",
    "    def __init__(self,data, _children=(),_op='', label=''):\n",
    "        self.data = data\n",
    "        self.children = set(_children)\n",
    "        self.op = _op\n",
    "        self.label = label\n",
    "        self.grad = 0.0\n",
    "\n",
    "    def __repr__(self):\n",
    "        return f\"Value(data={self.data})\"\n",
    "\n",
    "    def __add__(self,other):\n",
    "        return Value(self.data+other.data , (self,other), '+')\n",
    "\n",
    "    def __mul__(self,other):\n",
    "        return Value(self.data*other.data , (self,other) ,'*')\n",
    "\n",
    "    def __sub__(self,other):\n",
    "        return Value(self.data-other.data , (self,other) ,'-')\n",
    "\n",
    "    def __truediv__(self,other):\n",
    "        return Value(self.data/other.data , (self,other) ,'/')\n",
    "\n",
    "\n",
    "    "
   ]
  },
  {
   "cell_type": "code",
   "execution_count": 169,
   "id": "48e2b7d5-6134-4a37-84d4-cde0710f32df",
   "metadata": {},
   "outputs": [],
   "source": [
    "a = Value(3,label = 'a')\n",
    "b = Value(-2, label = 'b')\n",
    "c = Value(12 , label = 'c')\n",
    "\n",
    "d = a/b - c \n",
    "d.label='d'\n",
    "\n"
   ]
  },
  {
   "cell_type": "code",
   "execution_count": 170,
   "id": "d35c1230-abb2-444c-8cb1-ccc87bd8e8a6",
   "metadata": {},
   "outputs": [
    {
     "data": {
      "text/plain": [
       "Value(data=-13.5)"
      ]
     },
     "execution_count": 170,
     "metadata": {},
     "output_type": "execute_result"
    }
   ],
   "source": [
    "d"
   ]
  },
  {
   "cell_type": "code",
   "execution_count": 171,
   "id": "bc6c836f-57fc-4e1e-a08b-c808c25e7a59",
   "metadata": {},
   "outputs": [
    {
     "data": {
      "text/plain": [
       "-3.6000000000000014"
      ]
     },
     "execution_count": 171,
     "metadata": {},
     "output_type": "execute_result"
    }
   ],
   "source": [
    "3 * -3.2 + 6\n"
   ]
  },
  {
   "cell_type": "code",
   "execution_count": 172,
   "id": "ffd69460-de59-4078-9735-04ca2542f51b",
   "metadata": {},
   "outputs": [],
   "source": [
    "# yeah floats are weird"
   ]
  },
  {
   "cell_type": "code",
   "execution_count": 173,
   "id": "7b9aa697-e78f-4040-be22-353c53b4b62d",
   "metadata": {},
   "outputs": [],
   "source": [
    "#copypasta\n",
    "\n",
    "from graphviz import Digraph\n",
    "\n",
    "def trace(root):\n",
    "  # builds a set of all nodes and edges in a graph\n",
    "  nodes, edges = set(), set()\n",
    "  def build(v):\n",
    "    if v not in nodes:\n",
    "      nodes.add(v)\n",
    "      for child in v._prev:\n",
    "        edges.add((child, v))\n",
    "        build(child)\n",
    "  build(root)\n",
    "  return nodes, edges\n",
    "\n",
    "def draw_dot(root):\n",
    "  dot = Digraph(format='svg', graph_attr={'rankdir': 'LR'}) # LR = left to right\n",
    "  \n",
    "  nodes, edges = trace(root)\n",
    "  for n in nodes:\n",
    "    uid = str(id(n))\n",
    "    # for any value in the graph, create a rectangular ('record') node for it\n",
    "    dot.node(name = uid, label = \"{ %s | data %.4f | grad %.4f }\" % (n.label, n.data, n.grad), shape='record')\n",
    "    if n._op:\n",
    "      # if this value is a result of some operation, create an op node for it\n",
    "      dot.node(name = uid + n._op, label = n._op)\n",
    "      # and connect this node to it\n",
    "      dot.edge(uid + n._op, uid)\n",
    "\n",
    "  for n1, n2 in edges:\n",
    "    # connect n1 to the op node of n2\n",
    "    dot.edge(str(id(n1)), str(id(n2)) + n2._op)\n",
    "\n",
    "  return dot"
   ]
  },
  {
   "cell_type": "code",
   "execution_count": 174,
   "id": "fd4dc5fb-6ae7-4df0-a77d-b26d552a0ebc",
   "metadata": {},
   "outputs": [
    {
     "ename": "AttributeError",
     "evalue": "'Value' object has no attribute '_prev'",
     "output_type": "error",
     "traceback": [
      "\u001b[1;31m---------------------------------------------------------------------------\u001b[0m",
      "\u001b[1;31mAttributeError\u001b[0m                            Traceback (most recent call last)",
      "\u001b[1;32m~\\AppData\\Local\\Temp/ipykernel_1152/1957639772.py\u001b[0m in \u001b[0;36m<module>\u001b[1;34m\u001b[0m\n\u001b[1;32m----> 1\u001b[1;33m \u001b[0mdraw_dot\u001b[0m\u001b[1;33m(\u001b[0m\u001b[0md\u001b[0m\u001b[1;33m)\u001b[0m\u001b[1;33m\u001b[0m\u001b[1;33m\u001b[0m\u001b[0m\n\u001b[0m",
      "\u001b[1;32m~\\AppData\\Local\\Temp/ipykernel_1152/2679690507.py\u001b[0m in \u001b[0;36mdraw_dot\u001b[1;34m(root)\u001b[0m\n\u001b[0;32m     18\u001b[0m   \u001b[0mdot\u001b[0m \u001b[1;33m=\u001b[0m \u001b[0mDigraph\u001b[0m\u001b[1;33m(\u001b[0m\u001b[0mformat\u001b[0m\u001b[1;33m=\u001b[0m\u001b[1;34m'svg'\u001b[0m\u001b[1;33m,\u001b[0m \u001b[0mgraph_attr\u001b[0m\u001b[1;33m=\u001b[0m\u001b[1;33m{\u001b[0m\u001b[1;34m'rankdir'\u001b[0m\u001b[1;33m:\u001b[0m \u001b[1;34m'LR'\u001b[0m\u001b[1;33m}\u001b[0m\u001b[1;33m)\u001b[0m \u001b[1;31m# LR = left to right\u001b[0m\u001b[1;33m\u001b[0m\u001b[1;33m\u001b[0m\u001b[0m\n\u001b[0;32m     19\u001b[0m \u001b[1;33m\u001b[0m\u001b[0m\n\u001b[1;32m---> 20\u001b[1;33m   \u001b[0mnodes\u001b[0m\u001b[1;33m,\u001b[0m \u001b[0medges\u001b[0m \u001b[1;33m=\u001b[0m \u001b[0mtrace\u001b[0m\u001b[1;33m(\u001b[0m\u001b[0mroot\u001b[0m\u001b[1;33m)\u001b[0m\u001b[1;33m\u001b[0m\u001b[1;33m\u001b[0m\u001b[0m\n\u001b[0m\u001b[0;32m     21\u001b[0m   \u001b[1;32mfor\u001b[0m \u001b[0mn\u001b[0m \u001b[1;32min\u001b[0m \u001b[0mnodes\u001b[0m\u001b[1;33m:\u001b[0m\u001b[1;33m\u001b[0m\u001b[1;33m\u001b[0m\u001b[0m\n\u001b[0;32m     22\u001b[0m     \u001b[0muid\u001b[0m \u001b[1;33m=\u001b[0m \u001b[0mstr\u001b[0m\u001b[1;33m(\u001b[0m\u001b[0mid\u001b[0m\u001b[1;33m(\u001b[0m\u001b[0mn\u001b[0m\u001b[1;33m)\u001b[0m\u001b[1;33m)\u001b[0m\u001b[1;33m\u001b[0m\u001b[1;33m\u001b[0m\u001b[0m\n",
      "\u001b[1;32m~\\AppData\\Local\\Temp/ipykernel_1152/2679690507.py\u001b[0m in \u001b[0;36mtrace\u001b[1;34m(root)\u001b[0m\n\u001b[0;32m     12\u001b[0m         \u001b[0medges\u001b[0m\u001b[1;33m.\u001b[0m\u001b[0madd\u001b[0m\u001b[1;33m(\u001b[0m\u001b[1;33m(\u001b[0m\u001b[0mchild\u001b[0m\u001b[1;33m,\u001b[0m \u001b[0mv\u001b[0m\u001b[1;33m)\u001b[0m\u001b[1;33m)\u001b[0m\u001b[1;33m\u001b[0m\u001b[1;33m\u001b[0m\u001b[0m\n\u001b[0;32m     13\u001b[0m         \u001b[0mbuild\u001b[0m\u001b[1;33m(\u001b[0m\u001b[0mchild\u001b[0m\u001b[1;33m)\u001b[0m\u001b[1;33m\u001b[0m\u001b[1;33m\u001b[0m\u001b[0m\n\u001b[1;32m---> 14\u001b[1;33m   \u001b[0mbuild\u001b[0m\u001b[1;33m(\u001b[0m\u001b[0mroot\u001b[0m\u001b[1;33m)\u001b[0m\u001b[1;33m\u001b[0m\u001b[1;33m\u001b[0m\u001b[0m\n\u001b[0m\u001b[0;32m     15\u001b[0m   \u001b[1;32mreturn\u001b[0m \u001b[0mnodes\u001b[0m\u001b[1;33m,\u001b[0m \u001b[0medges\u001b[0m\u001b[1;33m\u001b[0m\u001b[1;33m\u001b[0m\u001b[0m\n\u001b[0;32m     16\u001b[0m \u001b[1;33m\u001b[0m\u001b[0m\n",
      "\u001b[1;32m~\\AppData\\Local\\Temp/ipykernel_1152/2679690507.py\u001b[0m in \u001b[0;36mbuild\u001b[1;34m(v)\u001b[0m\n\u001b[0;32m      9\u001b[0m     \u001b[1;32mif\u001b[0m \u001b[0mv\u001b[0m \u001b[1;32mnot\u001b[0m \u001b[1;32min\u001b[0m \u001b[0mnodes\u001b[0m\u001b[1;33m:\u001b[0m\u001b[1;33m\u001b[0m\u001b[1;33m\u001b[0m\u001b[0m\n\u001b[0;32m     10\u001b[0m       \u001b[0mnodes\u001b[0m\u001b[1;33m.\u001b[0m\u001b[0madd\u001b[0m\u001b[1;33m(\u001b[0m\u001b[0mv\u001b[0m\u001b[1;33m)\u001b[0m\u001b[1;33m\u001b[0m\u001b[1;33m\u001b[0m\u001b[0m\n\u001b[1;32m---> 11\u001b[1;33m       \u001b[1;32mfor\u001b[0m \u001b[0mchild\u001b[0m \u001b[1;32min\u001b[0m \u001b[0mv\u001b[0m\u001b[1;33m.\u001b[0m\u001b[0m_prev\u001b[0m\u001b[1;33m:\u001b[0m\u001b[1;33m\u001b[0m\u001b[1;33m\u001b[0m\u001b[0m\n\u001b[0m\u001b[0;32m     12\u001b[0m         \u001b[0medges\u001b[0m\u001b[1;33m.\u001b[0m\u001b[0madd\u001b[0m\u001b[1;33m(\u001b[0m\u001b[1;33m(\u001b[0m\u001b[0mchild\u001b[0m\u001b[1;33m,\u001b[0m \u001b[0mv\u001b[0m\u001b[1;33m)\u001b[0m\u001b[1;33m)\u001b[0m\u001b[1;33m\u001b[0m\u001b[1;33m\u001b[0m\u001b[0m\n\u001b[0;32m     13\u001b[0m         \u001b[0mbuild\u001b[0m\u001b[1;33m(\u001b[0m\u001b[0mchild\u001b[0m\u001b[1;33m)\u001b[0m\u001b[1;33m\u001b[0m\u001b[1;33m\u001b[0m\u001b[0m\n",
      "\u001b[1;31mAttributeError\u001b[0m: 'Value' object has no attribute '_prev'"
     ]
    }
   ],
   "source": [
    "draw_dot(d)"
   ]
  },
  {
   "cell_type": "code",
   "execution_count": null,
   "id": "0855ff32-f67e-4ce6-ac09-1f920c76795b",
   "metadata": {},
   "outputs": [],
   "source": []
  }
 ],
 "metadata": {
  "kernelspec": {
   "display_name": "Python 3 (ipykernel)",
   "language": "python",
   "name": "python3"
  },
  "language_info": {
   "codemirror_mode": {
    "name": "ipython",
    "version": 3
   },
   "file_extension": ".py",
   "mimetype": "text/x-python",
   "name": "python",
   "nbconvert_exporter": "python",
   "pygments_lexer": "ipython3",
   "version": "3.9.13"
  }
 },
 "nbformat": 4,
 "nbformat_minor": 5
}
